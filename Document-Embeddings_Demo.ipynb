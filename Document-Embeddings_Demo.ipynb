{
 "cells": [
  {
   "cell_type": "code",
   "execution_count": 1,
   "metadata": {
    "collapsed": false,
    "slideshow": {
     "slide_type": "-"
    }
   },
   "outputs": [
    {
     "data": {
      "text/plain": [
       "4"
      ]
     },
     "execution_count": 1,
     "metadata": {},
     "output_type": "execute_result"
    }
   ],
   "source": [
    "# using Jupyter notebooks\n",
    "# pushing CTRL-c will run the code in a cell\n",
    "2 + 2"
   ]
  },
  {
   "cell_type": "markdown",
   "metadata": {
    "slideshow": {
     "slide_type": "-"
    }
   },
   "source": [
    "# Gentle Introduction to NLP through Document Embeddings"
   ]
  },
  {
   "cell_type": "markdown",
   "metadata": {
    "slideshow": {
     "slide_type": "-"
    }
   },
   "source": [
    "### Quick Review of Last Time\n",
    "* Cosine Similarity\n",
    "\n",
    "### Two Approaches to Embedding Documents\n",
    "* Sparse, bag-of-words embeddings\n",
    " - Count embeddings\n",
    " - TFIDF embeddings\n",
    "* Dense embeddings"
   ]
  },
  {
   "cell_type": "markdown",
   "metadata": {
    "slideshow": {
     "slide_type": "-"
    }
   },
   "source": [
    "![NLP](images/NLP.png)"
   ]
  },
  {
   "cell_type": "markdown",
   "metadata": {
    "slideshow": {
     "slide_type": "-"
    }
   },
   "source": [
    "## From Last Time"
   ]
  },
  {
   "cell_type": "markdown",
   "metadata": {
    "slideshow": {
     "slide_type": "-"
    }
   },
   "source": [
    "![distance](images/distance_measures.png)\n",
    "http://dataaspirant.com/2015/04/11/five-most-popular-similarity-measures-implementation-in-python/"
   ]
  },
  {
   "cell_type": "markdown",
   "metadata": {
    "slideshow": {
     "slide_type": "-"
    }
   },
   "source": [
    "![cos_sim](images/cos_sim.png)\n",
    "http://dataaspirant.com/2015/04/11/five-most-popular-similarity-measures-implementation-in-python/"
   ]
  },
  {
   "cell_type": "markdown",
   "metadata": {
    "slideshow": {
     "slide_type": "-"
    }
   },
   "source": [
    "### calculating dot product\n",
    "$vector_a = [1,2,3]$ <br>\n",
    "$vector_b = [4,5,6]$ <br>\n",
    "$vector_a \\cdot vector_b = (1*4) + (2*5) + (3*6) = 4 + 10 + 18 = 32$ "
   ]
  },
  {
   "cell_type": "markdown",
   "metadata": {
    "slideshow": {
     "slide_type": "-"
    }
   },
   "source": [
    "### normalizing a vector\n",
    "To normalize a vector, we shrink all values so they fall between $0$ and $1$.\n",
    "\n",
    "![normalize](images/normalize.jpg)\n",
    "http://www.wikihow.com/Normalize-a-Vector"
   ]
  },
  {
   "cell_type": "code",
   "execution_count": 2,
   "metadata": {
    "collapsed": true,
    "slideshow": {
     "slide_type": "-"
    }
   },
   "outputs": [],
   "source": [
    "import numpy as np\n",
    "import utils\n",
    "from sklearn.feature_extraction.text import CountVectorizer, TfidfVectorizer"
   ]
  },
  {
   "cell_type": "code",
   "execution_count": 3,
   "metadata": {
    "collapsed": true,
    "slideshow": {
     "slide_type": "-"
    }
   },
   "outputs": [],
   "source": [
    "def normalize_vector(vector):\n",
    "    \"\"\"\n",
    "    Normalizes a vector so that all its values are between 0 and 1\n",
    "    :param vector: a `numpy` vector\n",
    "    :return: a normalized `numpy` vector\n",
    "    \"\"\"\n",
    "    # norm = np.sqrt(vector.dot(vector))\n",
    "    # numpy has a built in function\n",
    "    norm = np.linalg.norm(vector)\n",
    "    if norm:\n",
    "        return vector / norm\n",
    "    else:\n",
    "        # if norm == 0, then original vector was all 0s\n",
    "        return vector"
   ]
  },
  {
   "cell_type": "code",
   "execution_count": 4,
   "metadata": {
    "collapsed": false,
    "slideshow": {
     "slide_type": "-"
    }
   },
   "outputs": [
    {
     "name": "stdout",
     "output_type": "stream",
     "text": [
      "original vector [1 2 4]\n",
      "normalized vector [ 0.21821789  0.43643578  0.87287156]\n"
     ]
    }
   ],
   "source": [
    "vector_3d = np.array([1,2,4])\n",
    "print(\"original vector\", vector_3d)\n",
    "print(\"normalized vector\", normalize_vector(vector_3d))\n",
    "#0.218 is 1/4th of .873 just like 1 is 1/4th of 4"
   ]
  },
  {
   "cell_type": "code",
   "execution_count": 5,
   "metadata": {
    "collapsed": true,
    "slideshow": {
     "slide_type": "-"
    }
   },
   "outputs": [],
   "source": [
    "def cos_sim(vector_one, vector_two):\n",
    "    \"\"\"\n",
    "    Calculate the cosine similarity of two `numpy` vectors\n",
    "    :param vector_one: a `numpy` vector\n",
    "    :param vector_two: a `numpy` vector\n",
    "    :return: A score between 0 and 1\n",
    "    \"\"\"\n",
    "    # ensure that both vectors are already normalized\n",
    "    vector_one_norm = normalize_vector(vector_one)\n",
    "    vector_two_norm = normalize_vector(vector_two)\n",
    "    \n",
    "    # calculate the dot product between the two normalized vectors\n",
    "    return vector_one_norm.dot(vector_two_norm)"
   ]
  },
  {
   "cell_type": "code",
   "execution_count": 6,
   "metadata": {
    "collapsed": false,
    "slideshow": {
     "slide_type": "-"
    }
   },
   "outputs": [
    {
     "name": "stdout",
     "output_type": "stream",
     "text": [
      "cosine similarity of vector_one and vector_two 0.948683298051\n",
      "cosine similarity of vector_one and vector_three 0.904534033733\n",
      "cosine similarity of vector_one and vector_four 0.904534033733\n"
     ]
    }
   ],
   "source": [
    "vector_one = np.array([1,1,1,1,1])\n",
    "vector_two = np.array([1,1,1,1,2])\n",
    "vector_three = np.array([1,2,3,4,5])\n",
    "vector_four = np.array([10,20,30,40,50])\n",
    "\n",
    "print(\"cosine similarity of vector_one and vector_two\", cos_sim(vector_one, vector_two))\n",
    "print(\"cosine similarity of vector_one and vector_three\", cos_sim(vector_one, vector_three))\n",
    "print(\"cosine similarity of vector_one and vector_four\", cos_sim(vector_one, vector_four))"
   ]
  },
  {
   "cell_type": "markdown",
   "metadata": {
    "slideshow": {
     "slide_type": "-"
    }
   },
   "source": [
    "### Interpreting \"Similarity\"\n",
    "![cos_sim_compare](images/cos_sim_compare.png)\n",
    "https://medium.com/@camrongodbout/creating-a-search-engine-f2f429cab33c#.z7i9w8y5t"
   ]
  },
  {
   "cell_type": "markdown",
   "metadata": {
    "slideshow": {
     "slide_type": "-"
    }
   },
   "source": [
    "![vectorize](images/vectorize.png)"
   ]
  },
  {
   "cell_type": "markdown",
   "metadata": {
    "slideshow": {
     "slide_type": "-"
    }
   },
   "source": [
    "## Embedding a Document \n",
    "### Bag of Words\n",
    "#### Count Vectorizing"
   ]
  },
  {
   "cell_type": "markdown",
   "metadata": {
    "slideshow": {
     "slide_type": "-"
    }
   },
   "source": [
    "![bag_of_words](images/bag_of_words_vis.png)"
   ]
  },
  {
   "cell_type": "markdown",
   "metadata": {
    "slideshow": {
     "slide_type": "-"
    }
   },
   "source": [
    "![bag_of_words_count](images/bag_of_words_count_matrix.png)"
   ]
  },
  {
   "cell_type": "markdown",
   "metadata": {
    "slideshow": {
     "slide_type": "-"
    }
   },
   "source": [
    "## Embedding a Document \n",
    "### Bag of Words\n",
    "#### TFIDF Vectorizing\n",
    "`TFIDF` = `term frequency, inverse document frequency`"
   ]
  },
  {
   "cell_type": "markdown",
   "metadata": {
    "slideshow": {
     "slide_type": "-"
    }
   },
   "source": [
    "![tfidf_rationale](images/tfidf_rationale.png)"
   ]
  },
  {
   "cell_type": "markdown",
   "metadata": {
    "slideshow": {
     "slide_type": "-"
    }
   },
   "source": [
    "![doc_freq_vis](images/document_frequency_vis.png)"
   ]
  },
  {
   "cell_type": "markdown",
   "metadata": {
    "slideshow": {
     "slide_type": "-"
    }
   },
   "source": [
    "![tfidf_matrix](images/tfidf_matrix.png)"
   ]
  },
  {
   "cell_type": "markdown",
   "metadata": {
    "slideshow": {
     "slide_type": "-"
    }
   },
   "source": [
    "![tfidf_matrix_decimal](images/tfidf_matrix_decimal.png)"
   ]
  },
  {
   "cell_type": "markdown",
   "metadata": {
    "slideshow": {
     "slide_type": "-"
    }
   },
   "source": [
    "![bop](images/bags_of_popcorn.png)"
   ]
  },
  {
   "cell_type": "code",
   "execution_count": 7,
   "metadata": {
    "collapsed": false,
    "slideshow": {
     "slide_type": "-"
    }
   },
   "outputs": [],
   "source": [
    "# load reviews\n",
    "reviews_dict = utils.load_data(\"movie_reviews.tsv\")\n",
    "all_docs, lookup = utils.get_all_docs(reviews_dict)"
   ]
  },
  {
   "cell_type": "code",
   "execution_count": 8,
   "metadata": {
    "collapsed": false,
    "slideshow": {
     "slide_type": "-"
    }
   },
   "outputs": [
    {
     "data": {
      "text/plain": [
       "'\"With all this stuff going down at the moment with MJ i\\'ve started listening to his music, watching the odd documentary here and there, watched The Wiz and watched Moonwalker again. Maybe i just want to get a certain insight into this guy who i thought was really cool in the eighties just to maybe make up my mind whether he is guilty or innocent. Moonwalker is part biography, part feature film which i remember going to see at the cinema when it was originally released. Some of it has subtle messages about MJ\\'s feeling towards the press and also the obvious message of drugs are bad m\\'kay.Visually impressive but of course this is all about Michael Jackson so unless you remotely like MJ in anyway then you are going to hate this and find it boring. Some may call MJ an egotist for consenting to the making of this movie BUT MJ and most of his fans would say that he made it for the fans which if true is really nice of him.The actual feature film bit when it finally starts is only on for 20 minutes or so excluding the Smooth Criminal sequence and Joe Pesci is convincing as a psychopathic all powerful drug lord. Why he wants MJ dead so bad is beyond me. Because MJ overheard his plans? Nah, Joe Pesci\\'s character ranted that he wanted people to know it is he who is supplying drugs etc so i dunno, maybe he just hates MJ\\'s music.Lots of cool things in this like MJ turning into a car and a robot and the whole Speed Demon sequence. Also, the director must have had the patience of a saint when it came to filming the kiddy Bad sequence as usually directors hate working with one kid let alone a whole bunch of them performing a complex dance scene.Bottom line, this movie is for people who like MJ on one level or another (which i think is most people). If not, then stay away. It does try and give off a wholesome message and ironically MJ\\'s bestest buddy in this movie is a girl! Michael Jackson is truly one of the most talented people ever to grace this planet but is he guilty? Well, with all the attention i\\'ve gave this subject....hmmm well i don\\'t know because people can be different behind closed doors, i know this for a fact. He is either an extremely nice but stupid guy or one of the most sickest liars. I hope he is not the latter.\"'"
      ]
     },
     "execution_count": 8,
     "metadata": {},
     "output_type": "execute_result"
    }
   ],
   "source": [
    "# `all docs` is a list of all documents\n",
    "all_docs[0]"
   ]
  },
  {
   "cell_type": "code",
   "execution_count": 9,
   "metadata": {
    "collapsed": false,
    "slideshow": {
     "slide_type": "-"
    }
   },
   "outputs": [
    {
     "data": {
      "text/plain": [
       "'\"With all this stuff going down at the moment with MJ i\\'ve started listening to his music, watching the odd documentary here and there, watched The Wiz and watched Moonwalker again. Maybe i just want to get a certain insight into this guy who i thought was really cool in the eighties just to maybe make up my mind whether he is guilty or innocent. Moonwalker is part biography, part feature film which i remember going to see at the cinema when it was originally released. Some of it has subtle messages about MJ\\'s feeling towards the press and also the obvious message of drugs are bad m\\'kay.Visually impressive but of course this is all about Michael Jackson so unless you remotely like MJ in anyway then you are going to hate this and find it boring. Some may call MJ an egotist for consenting to the making of this movie BUT MJ and most of his fans would say that he made it for the fans which if true is really nice of him.The actual feature film bit when it finally starts is only on for 20 minutes or so excluding the Smooth Criminal sequence and Joe Pesci is convincing as a psychopathic all powerful drug lord. Why he wants MJ dead so bad is beyond me. Because MJ overheard his plans? Nah, Joe Pesci\\'s character ranted that he wanted people to know it is he who is supplying drugs etc so i dunno, maybe he just hates MJ\\'s music.Lots of cool things in this like MJ turning into a car and a robot and the whole Speed Demon sequence. Also, the director must have had the patience of a saint when it came to filming the kiddy Bad sequence as usually directors hate working with one kid let alone a whole bunch of them performing a complex dance scene.Bottom line, this movie is for people who like MJ on one level or another (which i think is most people). If not, then stay away. It does try and give off a wholesome message and ironically MJ\\'s bestest buddy in this movie is a girl! Michael Jackson is truly one of the most talented people ever to grace this planet but is he guilty? Well, with all the attention i\\'ve gave this subject....hmmm well i don\\'t know because people can be different behind closed doors, i know this for a fact. He is either an extremely nice but stupid guy or one of the most sickest liars. I hope he is not the latter.\"'"
      ]
     },
     "execution_count": 9,
     "metadata": {},
     "output_type": "execute_result"
    }
   ],
   "source": [
    "# `lookup` is a lookup dict with {idx: text}\n",
    "lookup[0]"
   ]
  },
  {
   "cell_type": "markdown",
   "metadata": {
    "slideshow": {
     "slide_type": "-"
    }
   },
   "source": [
    "### Using `scikit-learn`\n",
    "\n",
    "[CountVectorizer](http://scikit-learn.org/stable/modules/generated/sklearn.feature_extraction.text.CountVectorizer.html) <br>\n",
    "[TfidfVectorizer](http://scikit-learn.org/stable/modules/generated/sklearn.feature_extraction.text.TfidfVectorizer.html)"
   ]
  },
  {
   "cell_type": "code",
   "execution_count": 10,
   "metadata": {
    "collapsed": false,
    "slideshow": {
     "slide_type": "-"
    }
   },
   "outputs": [
    {
     "data": {
      "text/plain": [
       "<999x18373 sparse matrix of type '<class 'numpy.int64'>'\n",
       "\twith 137082 stored elements in Compressed Sparse Row format>"
      ]
     },
     "execution_count": 10,
     "metadata": {},
     "output_type": "execute_result"
    }
   ],
   "source": [
    "# call the vectorizer\n",
    "cv = CountVectorizer()\n",
    "tv = TfidfVectorizer()\n",
    "# run fit_transform on the <list> of documents\n",
    "X_cv = cv.fit_transform(all_docs)\n",
    "X_tv = tv.fit_transform(all_docs)\n",
    "X_cv"
   ]
  },
  {
   "cell_type": "code",
   "execution_count": 11,
   "metadata": {
    "collapsed": false,
    "slideshow": {
     "slide_type": "-"
    }
   },
   "outputs": [
    {
     "data": {
      "text/plain": [
       "array(['latter', 'hope', 'liars', 'sickest', 'stupid', 'extremely',\n",
       "       'either', 'fact', 'doors', 'closed', 'behind', 'different', 'be',\n",
       "       'can', 'don'], \n",
       "      dtype='<U44')"
      ]
     },
     "execution_count": 11,
     "metadata": {},
     "output_type": "execute_result"
    }
   ],
   "source": [
    "# see the vocabulary\n",
    "cv_vocab = cv.get_feature_names()\n",
    "# see the nonzero features (e.g. words) for each row of data\n",
    "cv_words_per_doc = cv.inverse_transform(X_cv)\n",
    "tv_words_per_doc = cv.inverse_transform(X_tv)\n",
    "cv_words_per_doc[0][0:15]"
   ]
  },
  {
   "cell_type": "code",
   "execution_count": 12,
   "metadata": {
    "collapsed": false,
    "slideshow": {
     "slide_type": "-"
    }
   },
   "outputs": [],
   "source": [
    "def get_one_row(X, idx):\n",
    "    \"\"\"\n",
    "    Gets one row (representing a document) from sparse matrix, converts to dense, and reshapes\n",
    "    :param X: the sparse matrix\n",
    "    :param idx: the index of desired row\n",
    "    :return: `numpy` dense vector\n",
    "    \"\"\"\n",
    "    row_ = X[idx].toarray()\n",
    "    size = row_.shape[1]\n",
    "    return row_.reshape(size)"
   ]
  },
  {
   "cell_type": "markdown",
   "metadata": {
    "slideshow": {
     "slide_type": "-"
    }
   },
   "source": [
    "### How much does TFIDF affect things?"
   ]
  },
  {
   "cell_type": "code",
   "execution_count": 13,
   "metadata": {
    "collapsed": false,
    "slideshow": {
     "slide_type": "-"
    }
   },
   "outputs": [
    {
     "name": "stdout",
     "output_type": "stream",
     "text": [
      "cosine similarity = 0.751,\n",
      "equal to a 41.3 degree angle\n"
     ]
    }
   ],
   "source": [
    "x_0_count = get_one_row(X_cv, 0)\n",
    "x_0_tfidf = get_one_row(X_tv, 0)\n",
    "sim = cos_sim(x_0_count, x_0_tfidf)\n",
    "sim_in_degrees = np.rad2deg(np.arccos(sim))\n",
    "print(\"cosine similarity = {:.3f},\\nequal to a {:.1f} degree angle\".format(sim, sim_in_degrees))"
   ]
  },
  {
   "cell_type": "markdown",
   "metadata": {
    "slideshow": {
     "slide_type": "-"
    }
   },
   "source": [
    "![cos_sim_compare](images/cos_sim_compare.png)\n",
    "https://medium.com/@camrongodbout/creating-a-search-engine-f2f429cab33c#.z7i9w8y5t"
   ]
  },
  {
   "cell_type": "code",
   "execution_count": 14,
   "metadata": {
    "collapsed": false,
    "slideshow": {
     "slide_type": "-"
    }
   },
   "outputs": [
    {
     "data": {
      "text/plain": [
       "'\"With all this stuff going down at the moment with MJ i\\'ve started listening to his music, watching the odd documentary here and there, watched The Wiz and watched Moonwalker again. Maybe i just want to get a certain insight into this guy who i thought was really cool in the eighties just to maybe make up my mind whether he is guilty or innocent. Moonwalker is part biography, part feature film which i remember going to see at the cinema when it was originally released. Some of it has subtle messages about MJ\\'s feeling towards the press and also the obvious message of drugs are bad m\\'kay.Visually impressive but of course this is all about Michael Jackson so unless you remotely like MJ in anyway then you are going to hate this and find it boring. Some may call MJ an egotist for consenting to the making of this movie BUT MJ and most of his fans would say that he made it for the fans which if true is really nice of him.The actual feature film bit when it finally starts is only on for 20 minutes or so excluding the Smooth Criminal sequence and Joe Pesci is convincing as a psychopathic all powerful drug lord. Why he wants MJ dead so bad is beyond me. Because MJ overheard his plans? Nah, Joe Pesci\\'s character ranted that he wanted people to know it is he who is supplying drugs etc so i dunno, maybe he just hates MJ\\'s music.Lots of cool things in this like MJ turning into a car and a robot and the whole Speed Demon sequence. Also, the director must have had the patience of a saint when it came to filming the kiddy Bad sequence as usually directors hate working with one kid let alone a whole bunch of them performing a complex dance scene.Bottom line, this movie is for people who like MJ on one level or another (which i think is most people). If not, then stay away. It does try and give off a wholesome message and ironically MJ\\'s bestest buddy in this movie is a girl! Michael Jackson is truly one of the most talented people ever to grace this planet but is he guilty? Well, with all the attention i\\'ve gave this subject....hmmm well i don\\'t know because people can be different behind closed doors, i know this for a fact. He is either an extremely nice but stupid guy or one of the most sickest liars. I hope he is not the latter.\"'"
      ]
     },
     "execution_count": 14,
     "metadata": {},
     "output_type": "execute_result"
    }
   ],
   "source": [
    "lookup[0]"
   ]
  },
  {
   "cell_type": "code",
   "execution_count": 15,
   "metadata": {
    "collapsed": false,
    "slideshow": {
     "slide_type": "-"
    }
   },
   "outputs": [
    {
     "name": "stdout",
     "output_type": "stream",
     "text": [
      "and: count value = 10 versus tfidf value = 0.0869\n"
     ]
    }
   ],
   "source": [
    "word = \"and\"\n",
    "idx = cv_vocab.index(word)\n",
    "c = x_0_count[idx]\n",
    "t = x_0_tfidf[idx]\n",
    "print(\"{}: count value = {} versus tfidf value = {:.4f}\".format(word, c, t))"
   ]
  },
  {
   "cell_type": "code",
   "execution_count": 16,
   "metadata": {
    "collapsed": false,
    "slideshow": {
     "slide_type": "-"
    }
   },
   "outputs": [
    {
     "name": "stdout",
     "output_type": "stream",
     "text": [
      "pesci: count value = 2 versus tfidf value = 0.1203\n"
     ]
    }
   ],
   "source": [
    "word = \"pesci\"\n",
    "idx = cv_vocab.index(word)\n",
    "c = x_0_count[idx]\n",
    "t = x_0_tfidf[idx]\n",
    "print(\"{}: count value = {} versus tfidf value = {:.4f}\".format(word, c, t))"
   ]
  },
  {
   "cell_type": "markdown",
   "metadata": {
    "slideshow": {
     "slide_type": "-"
    }
   },
   "source": [
    "### Most/Least similar documents"
   ]
  },
  {
   "cell_type": "code",
   "execution_count": 17,
   "metadata": {
    "collapsed": true,
    "slideshow": {
     "slide_type": "-"
    }
   },
   "outputs": [],
   "source": [
    "cos_sim_matrix = utils.load_matrix_from_csv(\"tfidf_cos_matrix.csv\")"
   ]
  },
  {
   "cell_type": "code",
   "execution_count": 18,
   "metadata": {
    "collapsed": false,
    "slideshow": {
     "slide_type": "-"
    }
   },
   "outputs": [
    {
     "data": {
      "text/plain": [
       "(array([125, 166]), array([166, 125]))"
      ]
     },
     "execution_count": 18,
     "metadata": {},
     "output_type": "execute_result"
    }
   ],
   "source": [
    "# index of highest similarity\n",
    "np.where(cos_sim_matrix == np.nanmax(cos_sim_matrix))"
   ]
  },
  {
   "cell_type": "code",
   "execution_count": 19,
   "metadata": {
    "collapsed": false,
    "slideshow": {
     "slide_type": "-"
    }
   },
   "outputs": [
    {
     "data": {
      "text/plain": [
       "'\"Zombie Review #3**Spoilers**Few films are actually \\\\\"so bad they\\'re good\\\\\", and Zombi 3 is not just bad, it\\'s wretchedly, unforgivably bad in so many ways that a whole new language may be needed just to describe them allMore than that, it\\'s a film credited to Lucio Fulci that even by his standards has absolutely no coherency, sense or reason. However we can\\'t blame Fulci as it wasn\\'t really directed by him but by Bruno Mattei, who doesn\\'t even have Fulci\\'s sense of style to help carry the film. Mattei seems to have brought little to the film but staggering ineptitude.So, I\\'m ashamed to say how much I enjoyed every worthless minute of Zombi 3. It has no redeeming features - in a genre known for thin characters, weak story, and lack of film making skill, Zombi 3 pushes the boat out but in doing so it\\'s even funnier than Nightmare City.The \\\\\"action\\\\\" starts when the \\\\\"Death 1\\\\\" gas is stolen from a military base, and damaged in the escape. Who is the thief, why did he steal it, and why did the US military think that creating cannibalistic legions of the living dead would be a good idea? All these questions and more will fail to be answered in Zombi 3....After hiding out at a hotel, the infected thief goes mad from all the green plastecine growing on his face before being tracked down by the army who somewhat foolishly decide the best way to dispose of his corpse will be to burn it, sending \\\\\"Death 1\\\\\" up into the atmosphere resulting in... zombie birds! Who then attack people and turn them into zombie people!!! (if zombies are cannibals, why don\\'t the zombie birds just attack other birds?)Then we meet our \\\\\"heroes\\\\\", a trio of horny GIs and a coachload of girls. There\\'s a couple of other guys with them too, but they\\'re not important - NO ONE is important here. You\\'ll be hard pressed to remember anyone\\'s face, let alone their name or find a reason to care about them. They end up hiding out at the same hotel as the thief (\\\\\"a week ago this place was buzzing with life, now it\\'s buzzing with flies!\\\\\") but there\\'s no escape from the undead.By this point you\\'ll either be completely sucked in or you\\'ll have turned the damned thing off. The script is so appalling even the greatest acting in the world couldn\\'t save it, so it\\'s just as well they have some of the worst - and not just the human characters, the zombie acting here is an all time low. There\\'s no consistancy in how the zombies behave - some shamble about in the time honored style, others engage in full on fist fights or charge around with machettes, not to mention the zombies who are still able to talk (a gimmick that gives the film it\\'s HORRIFYING TWIST ENDING). They die from gunshots to the chest (rather than the head) and even get knocked out by a good left-hook. How can you punch out a zombie???!!!!! In fact the emphasis on badly done 80s action often makes it resemble an episode of V...The zombies also spend a lot of time hiding, seemingly waiting for hours in ridiculous places on the chance some poor sap will pass by and get the fright of their life. They hide in bushes, in garages, in huts, on roofs, in the water, and even underneath pregnant women. At one point a zombie follows a woman up the stairs. To kill and eat her? No! To push her into the water, those zombies and their wacky sense of humour!There is plenty of gore though. Limbs are hacked, wounds ooze green pus, and there\\'s much in the way of flesh eating and people getting their faces mushed in. There\\'s nothing to match the originals eyeball piercing, but if bad make up effects are your bag you won\\'t be let down.All this and I\\'ve not even mentioned the awful music, the inexplicable flying zombie head, the scientist whose acting actually manages to stand out as REALLY bad, or the final chilling punchline.... in an ingenious twist on the originals radio station being overrun by zombies, Zombi 3 gives us an actual zombie DJ!! \\\\\"He\\'s gone over to their side!\\\\\" our escaping hero\\'s cry, before vowing to continue fighting against the undead in a sequel that sadly never came.Zombi 3 is rubbish - it would be no loss to the world if every single print was destroyed and all records of it\\'s existence erased, yet somehow I feel my life is richer for having seen it.Did I say richer? I meant 88 minutes shorter...\"'"
      ]
     },
     "execution_count": 19,
     "metadata": {},
     "output_type": "execute_result"
    }
   ],
   "source": [
    "lookup[125]"
   ]
  },
  {
   "cell_type": "code",
   "execution_count": 20,
   "metadata": {
    "collapsed": false
   },
   "outputs": [
    {
     "data": {
      "text/plain": [
       "'\"Title: Zombie 3 (1988) Directors: Mostly Lucio Fulci, but also Claudio Fragasso and Bruno Mattei Cast: Ottaviano DellAcqua, Massimo Vani, Beatrice Ring, Deran Serafin Review: To review this flick and get some good background of it, I gotta start by the beginning. And the beginning of this is really George Romeros Dawn of the Dead. When Dawn came out in 79, Lucio Fulci decided to make an indirect sequel to it and call it Zombie 2. That film is the one we know as plain ole Zombie. You know the one in which the zombie fights with the shark! OK so, after that flick (named Zombie 2 in Italy) came out and made a huge chunk of cash, the Italians decided, heck. Lets make some more zombie flicks! These things are raking in the dough! So Zombie 3 was born. Confused yet? The story on this one is really just a rehash of stories we\\'ve seen in a lot of American zombie flicks that we have seen before this one, the best comparison that comes to mind is Return of the Living Dead. Lets see...there\\'s the government making experiments with a certain toxic gas that will turn people into zombies. Canister gets released into the general population and shebang! We get loads of zombies yearning for human flesh. A bunch of people start running away from the zombies and end up in an old abandoned hotel. They gotta fight the zombies to survive.There was a lot of trouble during the filming of this movie. First and foremost, Lucio Fulci the beloved godfather of gore from Italy was sick. So he couldn\\'t really finish this film the way that he wanted to. The film was then handed down to two lesser directors Bruno Mattei (Hell of the Living Dead) and Claudio Fragasso (Zombie 4). They did their best to spice up a film that was already not so good. You see Fulci himself didn\\'t really have his heart and soul on this flick. He was disenchanted with it. He gave the flick over to the producers and basically said: \\\\\"Do whatever the hell you want with it!\\\\\" And god love them, they did.And that is why ladies and gents we have such a crappy zombie flick with the great Fulci credited as its \\\\\"director\\\\\". The main problem in my opinion is that its just such a pointless bore! There\\'s no substance to it whatsoever! After the first few minutes in which some terrorists steal the toxic gas and accidentally release it, the rest of the flick is just a bunch of empty soulless characters with no personality whatsoever running from the zombies. Now in some cases this can prove to be fun, if #1 the zombie make up and zombie action is actually good and fun and #2 there\\'s a lot of gore and guts involved.Here we get neither! Well there\\'s some inspired moments in there, like for example when some eagles get infected by the gas and they start attacking people. That was cool. There\\'s also a scene involving a flying zombie head (wich by the way defies all logic and explanation) and a scene with zombies coming out of the pool of the abandoned hotel and munching off a poor girls legs. But aside from that...the rest of the flick just falls flat on its ass.Endless upon endless scenes that don\\'t do jack to move the already non existent plot along. That was my main gripe with this flick. The sets look unfinished and the art direction is practically non-existent. I hate it when everything looks so damn unfinished! I like my b-movies, but this one just really went even below that! Its closer to a z-level flick, if you ask me.The zombie make up? Pure crap. The zombies are all Asian actors (the movie was filmed in the Philippines) so you get a bunch of Asian looking zombies. But thats not a big problem since they movie was set in the phillipine islands anyway. Its the look of the zombies that really sucks! They all died with the same clothes on for some reason. And what passes for zombie make up here is a bunch of black make up (more like smudges) on their faces. One or two zombies had slightly more complex make up, but it still wasn\\'t good enough to impress. Its just a bunch of goo pointlessly splattered on the actors faces. So not only is this flick slowly paced but the zombies look like crap. These are supposed to be dead folks! Anyhows, for those expecting the usual coolness in a Fulci flick don\\'t come expecting it here cause this is mostly somebody else\\'s flick. And those two involved (Mattei and Fragasso) didn\\'t really put there heart and souls into it. In fact, when you see the extras on the DVD you will see that when Fragasso is asked about his recollections and his feelings on this here flick, he doesn\\'t even take it to seriously. You can tell he is ashamed of it and in many occasions he says they \\\\\"just had a job to do and they did it\\\\\". And that my friends, is the last nail on this flick. There\\'s no love, and no heart put into making this film. Therefore you get a half assed, crappy zombie flick.Only for completest or people who want to have or see every zombie flick ever made. Everybody else, don\\'t even bother! Rating: 1 out of 5\"'"
      ]
     },
     "execution_count": 20,
     "metadata": {},
     "output_type": "execute_result"
    }
   ],
   "source": [
    "lookup[166]"
   ]
  },
  {
   "cell_type": "code",
   "execution_count": 21,
   "metadata": {
    "collapsed": false,
    "slideshow": {
     "slide_type": "-"
    }
   },
   "outputs": [
    {
     "name": "stdout",
     "output_type": "stream",
     "text": [
      "{'if', 'did', 'and', 'human', 'is', 'you', 'actually', 'review', 'up', 'before', 'reason', 'way', 'even', 'some', 'don', 'every', 'will', 'off', 'about', 'people', 'gas', 'hotel', 'over', 'girls', 'gore', 'in', 'out', 'best', 'but', 'by', 'turn', 'on', 'film', 'so', 'steal', 'characters', 'make', 'seen', 'head', 'still', 'after', 'that', 'get', 'sequel', 'well', 'their', 'also', 'they', 'we', 'into', 'dead', 'story', 'infected', 'one', 'just', 'it', 'or', 'came', 'there', 'flesh', 'zombie', 'wasn', 'not', 'who', 'yet', 'the', 'my', 'down', 'poor', 'no', 'faces', 'bruno', 'lucio', 'for', 'making', 'of', 'why', 'now', 'lot', 'few', 'fights', 'here', 'same', 'be', 'them', 'ashamed', 'these', 'couldn', 'from', 'to', 'many', 'an', 'good', 'those', 'living', 'minutes', 'his', 'action', 'fact', 'he', 'flying', 'zombies', 'doesn', 'fulci', 'was', 'when', 'all', 'this', 'really', 'more', 'are', 'credited', 'can', 'end', 'then', 've', 'with', 'mattei', 'have', 'as'}\n"
     ]
    }
   ],
   "source": [
    "# words present in both reviews\n",
    "print(set(tv_words_per_doc[166]).intersection(set(tv_words_per_doc[125])))"
   ]
  },
  {
   "cell_type": "code",
   "execution_count": 22,
   "metadata": {
    "collapsed": false,
    "slideshow": {
     "slide_type": "-"
    }
   },
   "outputs": [
    {
     "name": "stdout",
     "output_type": "stream",
     "text": [
      "least similar documents have cosine similarity of 0.0\n"
     ]
    },
    {
     "data": {
      "text/plain": [
       "(array([ 10,  10, 242, 319, 401, 404, 456, 456, 512, 512, 512, 512, 512,\n",
       "        512, 512, 621, 692, 713]),\n",
       " array([456, 512, 512, 456, 512, 512,  10, 319,  10, 242, 401, 404, 621,\n",
       "        692, 713, 512, 512, 512]))"
      ]
     },
     "execution_count": 22,
     "metadata": {},
     "output_type": "execute_result"
    }
   ],
   "source": [
    "# index of lowest similarity\n",
    "lowest_similarity = np.nanmin(cos_sim_matrix)\n",
    "print(\"least similar documents have cosine similarity of {}\".format(lowest_similarity))\n",
    "np.where(cos_sim_matrix == lowest_similarity)"
   ]
  },
  {
   "cell_type": "code",
   "execution_count": 23,
   "metadata": {
    "collapsed": false,
    "slideshow": {
     "slide_type": "-"
    }
   },
   "outputs": [
    {
     "name": "stdout",
     "output_type": "stream",
     "text": [
      "set()\n"
     ]
    }
   ],
   "source": [
    "# words present in both reviews\n",
    "print(set(tv_words_per_doc[10]).intersection(set(tv_words_per_doc[512])))"
   ]
  },
  {
   "cell_type": "markdown",
   "metadata": {},
   "source": [
    "### Problems with Bag-of-words"
   ]
  },
  {
   "cell_type": "code",
   "execution_count": 26,
   "metadata": {
    "collapsed": false,
    "slideshow": {
     "slide_type": "-"
    }
   },
   "outputs": [
    {
     "data": {
      "text/plain": [
       "'\"I loved the episode but seems to me there should have been some quick reference to the secretary getting punished for effectively being an accomplice after the fact. While I like when a episode of Columbo has an unpredictable twist like this one, its resolution should be part of the conclusion of the episode, along with the uncovering of the murderer.The interplay between Peter Falk and Ruth Gordon is priceless. At one point, Gordon, playing a famous writer, makes some comment about being flattered by the famous Lt. Columbo, making a tongue-in-cheek allusion to the detective\\'s real life fame as a crime-solver. This is one of the best of many great Columbo installments.\"'"
      ]
     },
     "execution_count": 26,
     "metadata": {},
     "output_type": "execute_result"
    }
   ],
   "source": [
    "lookup[45]"
   ]
  },
  {
   "cell_type": "code",
   "execution_count": 27,
   "metadata": {
    "collapsed": false,
    "slideshow": {
     "slide_type": "-"
    }
   },
   "outputs": [
    {
     "data": {
      "text/plain": [
       "'\"It is always satisfying when a detective wraps up a case and the criminal is brought to book. In this case the climax gives me even greater pleasure. To see the smug grin wiped off the face of Abigail Mitchell when she realises her victim has left \\\\\"deathbed testimony\\\\\" which leaves no doubt about her guilt is very satisfying.Please understand: while I admire Ruth Gordon\\'s performance, her character really, *really* irritates me. She is selfish and demanding. She gets her own way by putting on a simpering \\'little girl\\' act which is embarrassing in a woman of her age. Worse, she has now set herself up as judge, jury and executioner against her dead niece\\'s husband.When Columbo is getting too close she tries to unnerve him by manipulating him into making an off-the-cuff speech to an audience of high-class ladies. He turns the tables perfectly by delivering a very warm and humane speech about the realities of police work.Nothing can distract Columbo from the pursuit of justice. Abby\\'s final appeal to his good nature is rejected because he has too much self-respect not to do his job well. Here is one situation you can\\'t squirm out of Ms Mitchell!\"'"
      ]
     },
     "execution_count": 27,
     "metadata": {},
     "output_type": "execute_result"
    }
   ],
   "source": [
    "lookup[433]"
   ]
  },
  {
   "cell_type": "code",
   "execution_count": 24,
   "metadata": {
    "collapsed": false,
    "slideshow": {
     "slide_type": "-"
    }
   },
   "outputs": [
    {
     "name": "stdout",
     "output_type": "stream",
     "text": [
      "{'to', 'an', 'one', 'in', 'and', 'while', 'is', 'by', 'getting', 'the', 'when', 'ruth', 'this', 'columbo', 'gordon', 'making', 'of', 'has', 'detective', 'me', 'about', 'as'}\n"
     ]
    }
   ],
   "source": [
    "print(set(tv_words_per_doc[45]).intersection(set(tv_words_per_doc[433])))"
   ]
  },
  {
   "cell_type": "code",
   "execution_count": 28,
   "metadata": {
    "collapsed": false,
    "slideshow": {
     "slide_type": "-"
    }
   },
   "outputs": [
    {
     "data": {
      "text/plain": [
       "0.20648822212468901"
      ]
     },
     "execution_count": 28,
     "metadata": {},
     "output_type": "execute_result"
    }
   ],
   "source": [
    "cos_sim(get_one_row(X_tv, 45), get_one_row(X_tv, 433))"
   ]
  },
  {
   "cell_type": "code",
   "execution_count": 25,
   "metadata": {
    "collapsed": false,
    "slideshow": {
     "slide_type": "-"
    }
   },
   "outputs": [
    {
     "data": {
      "text/plain": [
       "<999x18373 sparse matrix of type '<class 'numpy.int64'>'\n",
       "\twith 137082 stored elements in Compressed Sparse Row format>"
      ]
     },
     "execution_count": 25,
     "metadata": {},
     "output_type": "execute_result"
    }
   ],
   "source": [
    "X_cv"
   ]
  },
  {
   "cell_type": "markdown",
   "metadata": {},
   "source": [
    "![bag_of_words_problem](images/bag_of_words_problem.png)"
   ]
  },
  {
   "cell_type": "markdown",
   "metadata": {
    "slideshow": {
     "slide_type": "-"
    }
   },
   "source": [
    "#### Problems with Bag-of-words:\n",
    " - two different sentences, same embedding\n",
    " - sparse matrix the size of *vocabulary*\n",
    " - same concepts, different words don't appear similar\n",
    " \n",
    "### So can we do better?"
   ]
  },
  {
   "cell_type": "markdown",
   "metadata": {
    "slideshow": {
     "slide_type": "-"
    }
   },
   "source": [
    "## Embedding a Document\n",
    "### Neural Networks"
   ]
  },
  {
   "cell_type": "markdown",
   "metadata": {
    "collapsed": true,
    "slideshow": {
     "slide_type": "-"
    }
   },
   "source": [
    "![recurrent](images/recurrent.png)\n",
    "http://colah.github.io/posts/2015-08-Understanding-LSTMs/"
   ]
  },
  {
   "cell_type": "markdown",
   "metadata": {
    "collapsed": true,
    "slideshow": {
     "slide_type": "-"
    }
   },
   "source": [
    "![cnn](images/cnn.png)\n",
    "http://www.wildml.com/2015/11/understanding-convolutional-neural-networks-for-nlp/"
   ]
  },
  {
   "cell_type": "markdown",
   "metadata": {
    "collapsed": true,
    "slideshow": {
     "slide_type": "-"
    }
   },
   "source": [
    "![dan](images/dan.png)\n",
    "https://cs.umd.edu/~miyyer/pubs/2015_acl_dan.pdf"
   ]
  },
  {
   "cell_type": "markdown",
   "metadata": {
    "slideshow": {
     "slide_type": "-"
    }
   },
   "source": [
    "![bow](images/bag_of_words_performance.png)"
   ]
  },
  {
   "cell_type": "markdown",
   "metadata": {
    "slideshow": {
     "slide_type": "-"
    }
   },
   "source": [
    "## Resources\n",
    "[Stanford IR book, online](http://nlp.stanford.edu/IR-book/html/htmledition/) <br>\n",
    "[Bag of Words Meets Bags of Popcorn (Kaggle)](https://www.kaggle.com/c/word2vec-nlp-tutorial) <br>\n",
    "[Neural Networks for NLP](https://arxiv.org/pdf/1510.00726.pdf) <br>\n",
    "[Blog about LSTM's](http://colah.github.io/posts/2015-08-Understanding-LSTMs/) <br>\n",
    "[Blog about CNN's](http://www.wildml.com/2015/11/understanding-convolutional-neural-networks-for-nlp/) <br>\n",
    "[Examples of Recurrent Neural Networks](http://karpathy.github.io/2015/05/21/rnn-effectiveness/) "
   ]
  }
 ],
 "metadata": {
  "kernelspec": {
   "display_name": "Python 3",
   "language": "python",
   "name": "python3"
  },
  "language_info": {
   "codemirror_mode": {
    "name": "ipython",
    "version": 3
   },
   "file_extension": ".py",
   "mimetype": "text/x-python",
   "name": "python",
   "nbconvert_exporter": "python",
   "pygments_lexer": "ipython3",
   "version": "3.5.2"
  }
 },
 "nbformat": 4,
 "nbformat_minor": 0
}
